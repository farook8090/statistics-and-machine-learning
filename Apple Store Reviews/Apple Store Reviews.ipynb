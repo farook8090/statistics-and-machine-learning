{
 "cells": [
  {
   "cell_type": "markdown",
   "id": "d05243a4-a370-4585-9c9f-462102c2aeed",
   "metadata": {},
   "source": [
    "<div style=\"text-align: center;\">\n",
    "    <span style=\"font-size: 32px; font-weight: bold; font-style: italic; color: #0E4C92;\">\n",
    "        Apple Store Reviews\n",
    "    </span>\n",
    "</div>"
   ]
  },
  {
   "cell_type": "code",
   "execution_count": 24,
   "id": "53ab4bad-d2fd-4725-b075-67cea99a5013",
   "metadata": {},
   "outputs": [],
   "source": [
    "import pandas as pd\n",
    "import numpy as np\n",
    "import matplotlib.pyplot as plt\n",
    "import seaborn as sns"
   ]
  },
  {
   "cell_type": "code",
   "execution_count": 25,
   "id": "a2945ddb-91f5-4be9-ad60-a427c464d6bf",
   "metadata": {},
   "outputs": [
    {
     "data": {
      "text/html": [
       "<div>\n",
       "<style scoped>\n",
       "    .dataframe tbody tr th:only-of-type {\n",
       "        vertical-align: middle;\n",
       "    }\n",
       "\n",
       "    .dataframe tbody tr th {\n",
       "        vertical-align: top;\n",
       "    }\n",
       "\n",
       "    .dataframe thead th {\n",
       "        text-align: right;\n",
       "    }\n",
       "</style>\n",
       "<table border=\"1\" class=\"dataframe\">\n",
       "  <thead>\n",
       "    <tr style=\"text-align: right;\">\n",
       "      <th></th>\n",
       "      <th>Review_ID</th>\n",
       "      <th>App_Name</th>\n",
       "      <th>User_Age</th>\n",
       "      <th>Review_Date</th>\n",
       "      <th>Rating</th>\n",
       "      <th>Review_Text</th>\n",
       "      <th>Likes</th>\n",
       "      <th>Device_Type</th>\n",
       "      <th>Version_Used</th>\n",
       "      <th>Country</th>\n",
       "      <th>Purchase_Amount</th>\n",
       "      <th>Category</th>\n",
       "    </tr>\n",
       "  </thead>\n",
       "  <tbody>\n",
       "    <tr>\n",
       "      <th>0</th>\n",
       "      <td>1</td>\n",
       "      <td>Candy Crush Saga</td>\n",
       "      <td>21</td>\n",
       "      <td>2023-01-16</td>\n",
       "      <td>4</td>\n",
       "      <td>Great game, but too many in-game purchases.</td>\n",
       "      <td>70</td>\n",
       "      <td>iPhone 12</td>\n",
       "      <td>3.231.19</td>\n",
       "      <td>Australia</td>\n",
       "      <td>0.00</td>\n",
       "      <td>Games</td>\n",
       "    </tr>\n",
       "    <tr>\n",
       "      <th>1</th>\n",
       "      <td>2</td>\n",
       "      <td>Spotify</td>\n",
       "      <td>57</td>\n",
       "      <td>2024-02-01</td>\n",
       "      <td>1</td>\n",
       "      <td>Good, but has connection issues sometimes.</td>\n",
       "      <td>49</td>\n",
       "      <td>iPhone SE</td>\n",
       "      <td>4.102.9</td>\n",
       "      <td>Germany</td>\n",
       "      <td>7.15</td>\n",
       "      <td>Music</td>\n",
       "    </tr>\n",
       "    <tr>\n",
       "      <th>2</th>\n",
       "      <td>3</td>\n",
       "      <td>TikTok</td>\n",
       "      <td>33</td>\n",
       "      <td>2023-11-30</td>\n",
       "      <td>5</td>\n",
       "      <td>Awesome app! Best entertainment content.</td>\n",
       "      <td>98</td>\n",
       "      <td>iPhone 12</td>\n",
       "      <td>7.52.0</td>\n",
       "      <td>Germany</td>\n",
       "      <td>4.98</td>\n",
       "      <td>Entertainment</td>\n",
       "    </tr>\n",
       "    <tr>\n",
       "      <th>3</th>\n",
       "      <td>4</td>\n",
       "      <td>Audible</td>\n",
       "      <td>40</td>\n",
       "      <td>2023-04-03</td>\n",
       "      <td>5</td>\n",
       "      <td>Great app, but it's a bit pricey.</td>\n",
       "      <td>74</td>\n",
       "      <td>iPhone 13</td>\n",
       "      <td>5.260.15</td>\n",
       "      <td>Australia</td>\n",
       "      <td>0.00</td>\n",
       "      <td>Books</td>\n",
       "    </tr>\n",
       "    <tr>\n",
       "      <th>4</th>\n",
       "      <td>5</td>\n",
       "      <td>Spotify</td>\n",
       "      <td>44</td>\n",
       "      <td>2023-05-01</td>\n",
       "      <td>1</td>\n",
       "      <td>Good, but has connection issues sometimes.</td>\n",
       "      <td>47</td>\n",
       "      <td>iPhone SE</td>\n",
       "      <td>4.50.18</td>\n",
       "      <td>Australia</td>\n",
       "      <td>14.31</td>\n",
       "      <td>Music</td>\n",
       "    </tr>\n",
       "    <tr>\n",
       "      <th>...</th>\n",
       "      <td>...</td>\n",
       "      <td>...</td>\n",
       "      <td>...</td>\n",
       "      <td>...</td>\n",
       "      <td>...</td>\n",
       "      <td>...</td>\n",
       "      <td>...</td>\n",
       "      <td>...</td>\n",
       "      <td>...</td>\n",
       "      <td>...</td>\n",
       "      <td>...</td>\n",
       "      <td>...</td>\n",
       "    </tr>\n",
       "    <tr>\n",
       "      <th>995</th>\n",
       "      <td>996</td>\n",
       "      <td>Headspace</td>\n",
       "      <td>30</td>\n",
       "      <td>2023-11-15</td>\n",
       "      <td>3</td>\n",
       "      <td>Good, but the premium content is expensive.</td>\n",
       "      <td>65</td>\n",
       "      <td>iPhone SE</td>\n",
       "      <td>6.284.11</td>\n",
       "      <td>US</td>\n",
       "      <td>0.00</td>\n",
       "      <td>Health</td>\n",
       "    </tr>\n",
       "    <tr>\n",
       "      <th>996</th>\n",
       "      <td>997</td>\n",
       "      <td>Duolingo</td>\n",
       "      <td>19</td>\n",
       "      <td>2024-09-27</td>\n",
       "      <td>1</td>\n",
       "      <td>Disappointing. Hard to follow and buggy.</td>\n",
       "      <td>4</td>\n",
       "      <td>iPhone SE</td>\n",
       "      <td>6.293.8</td>\n",
       "      <td>Canada</td>\n",
       "      <td>7.25</td>\n",
       "      <td>Education</td>\n",
       "    </tr>\n",
       "    <tr>\n",
       "      <th>997</th>\n",
       "      <td>998</td>\n",
       "      <td>Duolingo</td>\n",
       "      <td>38</td>\n",
       "      <td>2023-06-07</td>\n",
       "      <td>5</td>\n",
       "      <td>Excellent for learning new skills!</td>\n",
       "      <td>85</td>\n",
       "      <td>iPhone 11</td>\n",
       "      <td>10.277.15</td>\n",
       "      <td>Mexico</td>\n",
       "      <td>13.33</td>\n",
       "      <td>Education</td>\n",
       "    </tr>\n",
       "    <tr>\n",
       "      <th>998</th>\n",
       "      <td>999</td>\n",
       "      <td>Instagram</td>\n",
       "      <td>52</td>\n",
       "      <td>2024-03-04</td>\n",
       "      <td>4</td>\n",
       "      <td>Great app, but sometimes it lags.</td>\n",
       "      <td>55</td>\n",
       "      <td>iPhone 13</td>\n",
       "      <td>3.52.20</td>\n",
       "      <td>US</td>\n",
       "      <td>6.37</td>\n",
       "      <td>Social</td>\n",
       "    </tr>\n",
       "    <tr>\n",
       "      <th>999</th>\n",
       "      <td>1000</td>\n",
       "      <td>Audible</td>\n",
       "      <td>25</td>\n",
       "      <td>2024-02-20</td>\n",
       "      <td>2</td>\n",
       "      <td>Terrible. Very limited selection of books.</td>\n",
       "      <td>7</td>\n",
       "      <td>iPhone 13</td>\n",
       "      <td>9.150.8</td>\n",
       "      <td>India</td>\n",
       "      <td>8.32</td>\n",
       "      <td>Books</td>\n",
       "    </tr>\n",
       "  </tbody>\n",
       "</table>\n",
       "<p>1000 rows × 12 columns</p>\n",
       "</div>"
      ],
      "text/plain": [
       "     Review_ID          App_Name  User_Age Review_Date  Rating  \\\n",
       "0            1  Candy Crush Saga        21  2023-01-16       4   \n",
       "1            2           Spotify        57  2024-02-01       1   \n",
       "2            3            TikTok        33  2023-11-30       5   \n",
       "3            4           Audible        40  2023-04-03       5   \n",
       "4            5           Spotify        44  2023-05-01       1   \n",
       "..         ...               ...       ...         ...     ...   \n",
       "995        996         Headspace        30  2023-11-15       3   \n",
       "996        997          Duolingo        19  2024-09-27       1   \n",
       "997        998          Duolingo        38  2023-06-07       5   \n",
       "998        999         Instagram        52  2024-03-04       4   \n",
       "999       1000           Audible        25  2024-02-20       2   \n",
       "\n",
       "                                     Review_Text  Likes Device_Type  \\\n",
       "0    Great game, but too many in-game purchases.     70   iPhone 12   \n",
       "1     Good, but has connection issues sometimes.     49   iPhone SE   \n",
       "2       Awesome app! Best entertainment content.     98   iPhone 12   \n",
       "3              Great app, but it's a bit pricey.     74   iPhone 13   \n",
       "4     Good, but has connection issues sometimes.     47   iPhone SE   \n",
       "..                                           ...    ...         ...   \n",
       "995  Good, but the premium content is expensive.     65   iPhone SE   \n",
       "996     Disappointing. Hard to follow and buggy.      4   iPhone SE   \n",
       "997           Excellent for learning new skills!     85   iPhone 11   \n",
       "998            Great app, but sometimes it lags.     55   iPhone 13   \n",
       "999   Terrible. Very limited selection of books.      7   iPhone 13   \n",
       "\n",
       "    Version_Used    Country  Purchase_Amount       Category  \n",
       "0       3.231.19  Australia             0.00          Games  \n",
       "1        4.102.9    Germany             7.15          Music  \n",
       "2         7.52.0    Germany             4.98  Entertainment  \n",
       "3       5.260.15  Australia             0.00          Books  \n",
       "4        4.50.18  Australia            14.31          Music  \n",
       "..           ...        ...              ...            ...  \n",
       "995     6.284.11         US             0.00         Health  \n",
       "996      6.293.8     Canada             7.25      Education  \n",
       "997    10.277.15     Mexico            13.33      Education  \n",
       "998      3.52.20         US             6.37         Social  \n",
       "999      9.150.8      India             8.32          Books  \n",
       "\n",
       "[1000 rows x 12 columns]"
      ]
     },
     "execution_count": 25,
     "metadata": {},
     "output_type": "execute_result"
    }
   ],
   "source": [
    "df=pd.read_csv('Apple_Store_Reviews.csv')\n",
    "df"
   ]
  },
  {
   "cell_type": "code",
   "execution_count": 26,
   "id": "de4f08c6-f5b9-4584-b508-69a7be6f182f",
   "metadata": {},
   "outputs": [
    {
     "name": "stdout",
     "output_type": "stream",
     "text": [
      "<class 'pandas.core.frame.DataFrame'>\n",
      "RangeIndex: 1000 entries, 0 to 999\n",
      "Data columns (total 12 columns):\n",
      " #   Column           Non-Null Count  Dtype  \n",
      "---  ------           --------------  -----  \n",
      " 0   Review_ID        1000 non-null   int64  \n",
      " 1   App_Name         1000 non-null   object \n",
      " 2   User_Age         1000 non-null   int64  \n",
      " 3   Review_Date      1000 non-null   object \n",
      " 4   Rating           1000 non-null   int64  \n",
      " 5   Review_Text      1000 non-null   object \n",
      " 6   Likes            1000 non-null   int64  \n",
      " 7   Device_Type      1000 non-null   object \n",
      " 8   Version_Used     1000 non-null   object \n",
      " 9   Country          1000 non-null   object \n",
      " 10  Purchase_Amount  1000 non-null   float64\n",
      " 11  Category         1000 non-null   object \n",
      "dtypes: float64(1), int64(4), object(7)\n",
      "memory usage: 93.9+ KB\n"
     ]
    }
   ],
   "source": [
    "df.info()"
   ]
  },
  {
   "cell_type": "code",
   "execution_count": 27,
   "id": "27ad35a6-0af9-4f42-ba3f-ae3a9947ffa9",
   "metadata": {},
   "outputs": [
    {
     "data": {
      "text/html": [
       "<div>\n",
       "<style scoped>\n",
       "    .dataframe tbody tr th:only-of-type {\n",
       "        vertical-align: middle;\n",
       "    }\n",
       "\n",
       "    .dataframe tbody tr th {\n",
       "        vertical-align: top;\n",
       "    }\n",
       "\n",
       "    .dataframe thead th {\n",
       "        text-align: right;\n",
       "    }\n",
       "</style>\n",
       "<table border=\"1\" class=\"dataframe\">\n",
       "  <thead>\n",
       "    <tr style=\"text-align: right;\">\n",
       "      <th></th>\n",
       "      <th>Review_ID</th>\n",
       "      <th>User_Age</th>\n",
       "      <th>Rating</th>\n",
       "      <th>Likes</th>\n",
       "      <th>Purchase_Amount</th>\n",
       "    </tr>\n",
       "  </thead>\n",
       "  <tbody>\n",
       "    <tr>\n",
       "      <th>count</th>\n",
       "      <td>1000.000000</td>\n",
       "      <td>1000.000000</td>\n",
       "      <td>1000.000000</td>\n",
       "      <td>1000.000000</td>\n",
       "      <td>1000.000000</td>\n",
       "    </tr>\n",
       "    <tr>\n",
       "      <th>mean</th>\n",
       "      <td>500.500000</td>\n",
       "      <td>39.211000</td>\n",
       "      <td>2.869000</td>\n",
       "      <td>44.776000</td>\n",
       "      <td>5.361120</td>\n",
       "    </tr>\n",
       "    <tr>\n",
       "      <th>std</th>\n",
       "      <td>288.819436</td>\n",
       "      <td>11.908917</td>\n",
       "      <td>1.467649</td>\n",
       "      <td>28.685444</td>\n",
       "      <td>5.755652</td>\n",
       "    </tr>\n",
       "    <tr>\n",
       "      <th>min</th>\n",
       "      <td>1.000000</td>\n",
       "      <td>18.000000</td>\n",
       "      <td>1.000000</td>\n",
       "      <td>0.000000</td>\n",
       "      <td>0.000000</td>\n",
       "    </tr>\n",
       "    <tr>\n",
       "      <th>25%</th>\n",
       "      <td>250.750000</td>\n",
       "      <td>30.000000</td>\n",
       "      <td>1.000000</td>\n",
       "      <td>17.000000</td>\n",
       "      <td>0.000000</td>\n",
       "    </tr>\n",
       "    <tr>\n",
       "      <th>50%</th>\n",
       "      <td>500.500000</td>\n",
       "      <td>39.000000</td>\n",
       "      <td>3.000000</td>\n",
       "      <td>42.500000</td>\n",
       "      <td>4.995000</td>\n",
       "    </tr>\n",
       "    <tr>\n",
       "      <th>75%</th>\n",
       "      <td>750.250000</td>\n",
       "      <td>49.000000</td>\n",
       "      <td>4.000000</td>\n",
       "      <td>71.000000</td>\n",
       "      <td>10.192500</td>\n",
       "    </tr>\n",
       "    <tr>\n",
       "      <th>max</th>\n",
       "      <td>1000.000000</td>\n",
       "      <td>60.000000</td>\n",
       "      <td>5.000000</td>\n",
       "      <td>100.000000</td>\n",
       "      <td>19.970000</td>\n",
       "    </tr>\n",
       "  </tbody>\n",
       "</table>\n",
       "</div>"
      ],
      "text/plain": [
       "         Review_ID     User_Age       Rating        Likes  Purchase_Amount\n",
       "count  1000.000000  1000.000000  1000.000000  1000.000000      1000.000000\n",
       "mean    500.500000    39.211000     2.869000    44.776000         5.361120\n",
       "std     288.819436    11.908917     1.467649    28.685444         5.755652\n",
       "min       1.000000    18.000000     1.000000     0.000000         0.000000\n",
       "25%     250.750000    30.000000     1.000000    17.000000         0.000000\n",
       "50%     500.500000    39.000000     3.000000    42.500000         4.995000\n",
       "75%     750.250000    49.000000     4.000000    71.000000        10.192500\n",
       "max    1000.000000    60.000000     5.000000   100.000000        19.970000"
      ]
     },
     "execution_count": 27,
     "metadata": {},
     "output_type": "execute_result"
    }
   ],
   "source": [
    "df.describe()"
   ]
  },
  {
   "cell_type": "markdown",
   "id": "c8e7e251-05d7-443d-9173-8c96dec0890b",
   "metadata": {},
   "source": [
    "#### 1. Calculate the mean, median, and mode of the app ratings in the dataset. Which measure (mean, median, or mode) best represents the central tendency of the ratings?"
   ]
  },
  {
   "cell_type": "code",
   "execution_count": 28,
   "id": "9232c1f8-c247-46b8-87fd-a5084199216d",
   "metadata": {},
   "outputs": [
    {
     "data": {
      "text/plain": [
       "2.87"
      ]
     },
     "execution_count": 28,
     "metadata": {},
     "output_type": "execute_result"
    }
   ],
   "source": [
    "#calculating mean of rating column in dataset.\n",
    "rating_mean = round(float(df['Rating'].mean()),2)\n",
    "rating_mean"
   ]
  },
  {
   "cell_type": "code",
   "execution_count": 29,
   "id": "d923323d-554f-4684-9795-d9d8b652ca79",
   "metadata": {},
   "outputs": [
    {
     "data": {
      "text/plain": [
       "3.0"
      ]
     },
     "execution_count": 29,
     "metadata": {},
     "output_type": "execute_result"
    }
   ],
   "source": [
    "#calculating median of rating column in dataset.\n",
    "rating_median = round(float(df['Rating'].median()),2)\n",
    "rating_median"
   ]
  },
  {
   "cell_type": "code",
   "execution_count": 30,
   "id": "a6e31eb8-1b32-4104-bfb0-5c0d7d395997",
   "metadata": {},
   "outputs": [
    {
     "data": {
      "text/plain": [
       "1.0"
      ]
     },
     "execution_count": 30,
     "metadata": {},
     "output_type": "execute_result"
    }
   ],
   "source": [
    "#calculating mode of rating column in dataset.\n",
    "rating_mode = float(df['Rating'].mode()[0])\n",
    "rating_mode"
   ]
  },
  {
   "cell_type": "code",
   "execution_count": 31,
   "id": "8a9f95cb-e478-4c3c-8c2f-74821106f421",
   "metadata": {},
   "outputs": [
    {
     "name": "stdout",
     "output_type": "stream",
     "text": [
      "Mean of rating : 2.87 .\n",
      "Median of rating : 3.0 .\n",
      "Mode of rating : 1.0 .\n"
     ]
    }
   ],
   "source": [
    "print(f\"Mean of rating : {rating_mean} .\")\n",
    "print(f\"Median of rating : {rating_median} .\")\n",
    "print(f\"Mode of rating : {rating_mode} .\")"
   ]
  },
  {
   "cell_type": "code",
   "execution_count": 83,
   "id": "196a1cc1-80ad-4b0a-b28d-a98313a5c4b2",
   "metadata": {},
   "outputs": [
    {
     "data": {
      "image/png": "[encoded data removed]",
      "text/plain": [
       "<Figure size 1200x400 with 1 Axes>"
      ]
     },
     "metadata": {},
     "output_type": "display_data"
    }
   ],
   "source": [
    "plt.figure(figsize=(12,4))\n",
    "plt.bar(x=[\"Mean\",\"Median\",\"Mode\"],height=[rating_mean,rating_median,rating_mode])\n",
    "plt.title(\"Best measure to represent central tendency in Rating.\")\n",
    "plt.xlabel(\"Measure\")\n",
    "plt.ylabel(\"Values\")\n",
    "plt.savefig(\"Best measure to represent central tendency in Rating\")\n",
    "plt.show()"
   ]
  },
  {
   "cell_type": "markdown",
   "id": "62a93cfe-ccbc-45ff-a980-566e7f5b2c93",
   "metadata": {},
   "source": [
    "<b>\n",
    "    As we can see from above analysis, Median of 'Rating' column tends to have greater value than compare to others. So we can say that 'Median' represents the best central tendency for Rating column.\n",
    "</b>"
   ]
  },
  {
   "cell_type": "markdown",
   "id": "a27d701d-6d0e-4dea-8251-ba979aee0c42",
   "metadata": {},
   "source": [
    "#### 2. Find the range and interquartile range (IQR) of the Purchase_Amount in the dataset. How do these values help in understanding the spread of the data?"
   ]
  },
  {
   "cell_type": "code",
   "execution_count": 33,
   "id": "24b8e4c0-244e-4924-afac-478d5b137fb8",
   "metadata": {},
   "outputs": [
    {
     "data": {
      "text/plain": [
       "19.97"
      ]
     },
     "execution_count": 33,
     "metadata": {},
     "output_type": "execute_result"
    }
   ],
   "source": [
    "#Max value in Purchase_Amount column.\n",
    "max_purchase_amount = float(df['Purchase_Amount'].max())\n",
    "max_purchase_amount"
   ]
  },
  {
   "cell_type": "code",
   "execution_count": 34,
   "id": "6e636b4d-1b14-47a4-8064-286d68d64580",
   "metadata": {},
   "outputs": [
    {
     "data": {
      "text/plain": [
       "0.0"
      ]
     },
     "execution_count": 34,
     "metadata": {},
     "output_type": "execute_result"
    }
   ],
   "source": [
    "#Min value in Purchase_Amount column.\n",
    "min_purchase_amount = float(df['Purchase_Amount'].min())\n",
    "min_purchase_amount"
   ]
  },
  {
   "cell_type": "code",
   "execution_count": 35,
   "id": "581fefc9-5953-4f39-93ff-60f18ff22976",
   "metadata": {},
   "outputs": [
    {
     "name": "stdout",
     "output_type": "stream",
     "text": [
      "Range of Purchase_Amount column in 19.97 .\n"
     ]
    }
   ],
   "source": [
    "#Range of Purchase_Amount column.\n",
    "range_purchase_amount = max_purchase_amount-min_purchase_amount\n",
    "print(f\"Range of Purchase_Amount column in {range_purchase_amount} .\")"
   ]
  },
  {
   "cell_type": "code",
   "execution_count": 85,
   "id": "7e47f185-db70-4915-bdf4-d185f8ccc671",
   "metadata": {},
   "outputs": [
    {
     "data": {
      "image/png": "[encoded data removed]",
      "text/plain": [
       "<Figure size 1200x400 with 1 Axes>"
      ]
     },
     "metadata": {},
     "output_type": "display_data"
    }
   ],
   "source": [
    "plt.figure(figsize=(12,4))\n",
    "plt.boxplot(df['Purchase_Amount'])\n",
    "plt.title(\"Spread of data\")\n",
    "plt.ylabel(\"Purchase Amount\")\n",
    "\n",
    "# Add text labels for min and max\n",
    "plt.text(1.1, min_purchase_amount, f'Min: {min_purchase_amount}', va='center')\n",
    "plt.text(1.1, max_purchase_amount, f'Max: {max_purchase_amount}', va='center')\n",
    "plt.savefig(\"Spread of data\")\n",
    "plt.show()"
   ]
  },
  {
   "cell_type": "markdown",
   "id": "9eebf8b0-d326-40da-b9c8-5ea0ddab38b8",
   "metadata": {},
   "source": [
    "#### 3. Calculate the variance and standard deviation for the number of likes received on reviews. What does the standard deviation indicate about the spread of the data?"
   ]
  },
  {
   "cell_type": "code",
   "execution_count": 39,
   "id": "6b239516-8dc6-4fa9-aa71-1d8b40520725",
   "metadata": {},
   "outputs": [
    {
     "data": {
      "text/plain": [
       "822.85"
      ]
     },
     "execution_count": 39,
     "metadata": {},
     "output_type": "execute_result"
    }
   ],
   "source": [
    "variance_likes = float(round(df['Likes'].var(),2))\n",
    "variance_likes"
   ]
  },
  {
   "cell_type": "code",
   "execution_count": 38,
   "id": "25c89a51-8e6c-4669-a3ee-ead624995873",
   "metadata": {},
   "outputs": [
    {
     "data": {
      "text/plain": [
       "28.69"
      ]
     },
     "execution_count": 38,
     "metadata": {},
     "output_type": "execute_result"
    }
   ],
   "source": [
    "standard_deviation_likes = float(round(df['Likes'].std(),2))\n",
    "standard_deviation_likes"
   ]
  },
  {
   "cell_type": "markdown",
   "id": "b6474375-0ecc-4b46-bc1f-821eae9309de",
   "metadata": {},
   "source": [
    "<p>\n",
    "  <strong>Observation:</strong> As we can observe, the standard deviation is <strong>28.69</strong>, \n",
    "  which is a relatively high value. This indicates that the number of likes varies widely between reviews.\n",
    "</p>"
   ]
  },
  {
   "cell_type": "markdown",
   "id": "39635c91-0d9f-42f5-a806-5caec7494ba3",
   "metadata": {},
   "source": [
    "#### 4. Determine the correlation between the likes and the rating given. Is there a positive, negative, or no correlation between these variables?"
   ]
  },
  {
   "cell_type": "code",
   "execution_count": 87,
   "id": "7eed8dc3-9dd9-456e-836b-45d449a22f71",
   "metadata": {},
   "outputs": [
    {
     "data": {
      "image/png": "[encoded data removed]",
      "text/plain": [
       "<Figure size 1200x400 with 1 Axes>"
      ]
     },
     "metadata": {},
     "output_type": "display_data"
    }
   ],
   "source": [
    "plt.figure(figsize=(12,4))\n",
    "sns.regplot(data=df,x='Likes',y='Rating', scatter_kws={'alpha':0.5})\n",
    "plt.title('Correlation between Likes and Rating')\n",
    "plt.savefig(\"Correlation between Likes and Rating\")\n",
    "plt.show()"
   ]
  },
  {
   "cell_type": "code",
   "execution_count": 53,
   "id": "a42df7ca-f4a9-41d4-9c72-a87281276781",
   "metadata": {},
   "outputs": [
    {
     "name": "stdout",
     "output_type": "stream",
     "text": [
      "Correlation coefficient have Positive relationship b/w Likes and Rating with value of 0.84 .\n"
     ]
    }
   ],
   "source": [
    "# Calculate correlation value\n",
    "correlation = round(df['Likes'].corr(df['Rating']),2)\n",
    "\n",
    "if(correlation>0):\n",
    "   print(f\"Correlation coefficient have Positive relationship b/w Likes and Rating with value of {correlation} .\")\n",
    "elif(correlation<0):\n",
    "    print(f\"Correlation coefficient have Negative relationship b/w Likes and Rating with value of {correlation} .\")\n",
    "else:\n",
    "    print(f\"Correlation coefficient have no relationship b/w Likes and Rating with value of {correlation} .\")"
   ]
  },
  {
   "cell_type": "markdown",
   "id": "330307fe-a1ff-4891-ae7f-a60b6a90072e",
   "metadata": {},
   "source": [
    "#### 5. Plot the distribution of the app ratings. Is the distribution positively or negatively skewed? What does this indicate about user satisfaction?"
   ]
  },
  {
   "cell_type": "code",
   "execution_count": 89,
   "id": "c4ef72cf-dab5-429b-9962-51898c0b823b",
   "metadata": {},
   "outputs": [
    {
     "data": {
      "image/png": "[encoded data removed]",
      "text/plain": [
       "<Figure size 600x400 with 1 Axes>"
      ]
     },
     "metadata": {},
     "output_type": "display_data"
    }
   ],
   "source": [
    "plt.figure(figsize=(6,4))\n",
    "sns.histplot(df['Rating'], bins=10, kde=True, color='skyblue')\n",
    "plt.title('Distribution of App Ratings')\n",
    "plt.xlabel('Rating')\n",
    "plt.ylabel('Frequency')\n",
    "plt.savefig(\"Distribution of App Ratings\")\n",
    "plt.show()"
   ]
  },
  {
   "cell_type": "code",
   "execution_count": 68,
   "id": "59998f81-3556-40a9-a0a2-ec3f23f0889c",
   "metadata": {},
   "outputs": [
    {
     "name": "stdout",
     "output_type": "stream",
     "text": [
      "There is Right Skewed/Positive Skewness. This means Mean and Median > Mode.\n"
     ]
    }
   ],
   "source": [
    "skew_value = round(df['Rating'].skew(),2)\n",
    "#print(\"Skewness:\", skew_value)\n",
    "if skew_value >0:\n",
    "    print(f\"There is Right Skewed/Positive Skewness. This means Mean and Median > Mode.\")\n",
    "elif skew_value < 0:\n",
    "    print(f\"There is Left Skewed/Negative Skewness. This means Mean and Median < Mode.\")\n",
    "else:\n",
    "    print(f\"There is Normal Destribution. This means Mean=Median=Mode\")"
   ]
  },
  {
   "cell_type": "markdown",
   "id": "f4271ee6-ebc3-4160-9ad5-83992568a02a",
   "metadata": {},
   "source": [
    "#### 6. Perform a hypothesis test to determine if the average rating for Instagram is significantly higher than the average rating for WhatsApp. Use a 95% confidence level."
   ]
  },
  {
   "cell_type": "code",
   "execution_count": 71,
   "id": "d8c4be95-5829-4a19-b55e-8eae41380f40",
   "metadata": {},
   "outputs": [],
   "source": [
    "insta_ratings = df[df['App_Name'] == 'Instagram']['Rating']\n",
    "whatsapp_ratings = df[df['App_Name'] == 'WhatsApp']['Rating']"
   ]
  },
  {
   "cell_type": "code",
   "execution_count": 74,
   "id": "cb0bb370-077d-418c-a7f7-a5c373d70fc5",
   "metadata": {},
   "outputs": [],
   "source": [
    "#pip install scipy"
   ]
  },
  {
   "cell_type": "code",
   "execution_count": 75,
   "id": "b292a646-a43c-4337-8b7c-0ea418715d17",
   "metadata": {},
   "outputs": [
    {
     "name": "stdout",
     "output_type": "stream",
     "text": [
      "t-statistic: -0.79674231444911\n",
      "p-value: 0.786764229580496\n"
     ]
    }
   ],
   "source": [
    "from scipy import stats\n",
    "\n",
    "t_stat, p_value = stats.ttest_ind(insta_ratings, whatsapp_ratings, alternative='greater')\n",
    "print(\"t-statistic:\", t_stat)\n",
    "print(\"p-value:\", p_value)"
   ]
  },
  {
   "cell_type": "code",
   "execution_count": 76,
   "id": "88da6c7b-ff1e-417e-ad00-5612a45c6ded",
   "metadata": {},
   "outputs": [
    {
     "name": "stdout",
     "output_type": "stream",
     "text": [
      "Fail to reject H₀ -> No significant evidence that Instagram’s average rating is higher.\n"
     ]
    }
   ],
   "source": [
    "if(p_value < 0.05):\n",
    "    print(f\"Reject H₀ -> Instagram’s average rating is significantly higher.\")\n",
    "else:\n",
    "    #p_value ≥ 0.05\n",
    "    print(f\"Fail to reject H₀ -> No significant evidence that Instagram’s average rating is higher.\")"
   ]
  },
  {
   "cell_type": "markdown",
   "id": "dd5abe49-18c3-4008-9239-af2b3f13217a",
   "metadata": {},
   "source": [
    "#### 7. Take random samples of ratings from the dataset and calculate their means. Create a sampling distribution and explain how this relates to the Central Limit Theorem."
   ]
  },
  {
   "cell_type": "code",
   "execution_count": 81,
   "id": "83d49bb5-97e4-4145-81dd-daca77835003",
   "metadata": {},
   "outputs": [],
   "source": [
    "sample_means = []\n",
    "\n",
    "for i in range(1000):\n",
    "    sample = df['Rating'].sample(n=30, replace=True)\n",
    "    sample_means.append(sample.mean())\n",
    "\n",
    "sample_means = np.array(sample_means)"
   ]
  },
  {
   "cell_type": "code",
   "execution_count": 90,
   "id": "6c8af31b-a70c-4992-a91f-fe16c5beb729",
   "metadata": {},
   "outputs": [
    {
     "data": {
      "image/png": "[encoded data removed]",
      "text/plain": [
       "<Figure size 1200x400 with 1 Axes>"
      ]
     },
     "metadata": {},
     "output_type": "display_data"
    }
   ],
   "source": [
    "plt.figure(figsize=(12,4))\n",
    "plt.hist(sample_means, bins=30, color='skyblue', edgecolor='black')\n",
    "plt.title('Sampling Distribution of the Mean (n=30, 1000 samples)')\n",
    "plt.xlabel('Sample Mean')\n",
    "plt.ylabel('Frequency')\n",
    "plt.savefig(\"Sampling Distribution of the Mean (n=30, 1000 samples)\")\n",
    "plt.show()"
   ]
  },
  {
   "cell_type": "code",
   "execution_count": null,
   "id": "893b9449-2ff9-48a9-a16a-da92eaceff95",
   "metadata": {},
   "outputs": [],
   "source": []
  },
  {
   "cell_type": "code",
   "execution_count": null,
   "id": "e9c2b9ae-1265-4f2d-a9ca-5d086b49f83f",
   "metadata": {},
   "outputs": [],
   "source": []
  },
  {
   "cell_type": "code",
   "execution_count": null,
   "id": "14ff477a-7047-4ca5-a833-4d48ffab913f",
   "metadata": {},
   "outputs": [],
   "source": []
  }
 ],
 "metadata": {
  "kernelspec": {
   "display_name": "Python 3 (ipykernel)",
   "language": "python",
   "name": "python3"
  },
  "language_info": {
   "codemirror_mode": {
    "name": "ipython",
    "version": 3
   },
   "file_extension": ".py",
   "mimetype": "text/x-python",
   "name": "python",
   "nbconvert_exporter": "python",
   "pygments_lexer": "ipython3",
   "version": "3.13.5"
  }
 },
 "nbformat": 4,
 "nbformat_minor": 5
}
